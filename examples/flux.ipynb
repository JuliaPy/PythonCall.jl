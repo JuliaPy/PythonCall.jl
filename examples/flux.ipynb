{
 "cells": [
  {
   "cell_type": "code",
   "execution_count": null,
   "id": "3af41f01",
   "metadata": {},
   "outputs": [],
   "source": [
    "import numpy as np, matplotlib.pyplot as plt\n",
    "from juliacall import Main as jl, convert as jlconvert"
   ]
  },
  {
   "cell_type": "code",
   "execution_count": null,
   "id": "b04d1a1f",
   "metadata": {},
   "outputs": [],
   "source": [
    "def batch(n):\n",
    "    x = np.sort(np.random.uniform(-1, 1, (1,n)))\n",
    "    y = np.sin(x*10) + np.random.normal(0, 0.1, (1,n))\n",
    "    return x, y"
   ]
  },
  {
   "cell_type": "code",
   "execution_count": null,
   "id": "0e8c14ae",
   "metadata": {},
   "outputs": [],
   "source": [
    "jl.seval(\"using Flux\")\n",
    "model = jl.Chain(\n",
    "    jl.Dense(1, 10, jl.relu),\n",
    "    jl.Dense(10, 10, jl.relu),\n",
    "    jl.Dense(10, 10, jl.relu),\n",
    "    jl.Dense(10, 1),\n",
    ")\n",
    "loss = jl.seval(\"m -> (x, y) -> Flux.Losses.mse(m(x), y)\")(model)"
   ]
  },
  {
   "cell_type": "code",
   "execution_count": null,
   "id": "acec7450",
   "metadata": {},
   "outputs": [],
   "source": [
    "jl.Flux.train_b(\n",
    "    loss,\n",
    "    jl.Flux.params(model),\n",
    "    jlconvert(jl.Vector[jl.Tuple], [batch(100) for _ in range(2000)]),\n",
    "    jl.ADAM(0.01),\n",
    ")"
   ]
  },
  {
   "cell_type": "code",
   "execution_count": null,
   "id": "85331980",
   "metadata": {},
   "outputs": [],
   "source": [
    "x, y = batch(400)\n",
    "plt.scatter(x[0], y[0], label=\"truth\")\n",
    "yhat = model(x)\n",
    "plt.plot(x[0], yhat[0,:], c=\"k\", label=\"model\")\n",
    "plt.legend()\n",
    "print(\"loss =\", loss(x,y))"
   ]
  },
  {
   "cell_type": "code",
   "execution_count": null,
   "id": "7bbc27c9",
   "metadata": {},
   "outputs": [],
   "source": []
  }
 ],
 "metadata": {
  "kernelspec": {
   "display_name": "Python 3 (ipykernel)",
   "language": "python",
   "name": "python3"
  },
  "language_info": {
   "codemirror_mode": {
    "name": "ipython",
    "version": 3
   },
   "file_extension": ".py",
   "mimetype": "text/x-python",
   "name": "python",
   "nbconvert_exporter": "python",
   "pygments_lexer": "ipython3",
   "version": "3.10.5"
  }
 },
 "nbformat": 4,
 "nbformat_minor": 5
}
